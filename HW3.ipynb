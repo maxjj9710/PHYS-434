{
 "cells": [
  {
   "cell_type": "markdown",
   "metadata": {},
   "source": [
    "Max Wang<br>\n",
    "PHYS 434<br>\n",
    "HW3"
   ]
  },
  {
   "cell_type": "markdown",
   "metadata": {},
   "source": [
    "## Problem 1\n",
    "\n",
    "a) Just by pure miscategorization, the first algorithm had 8 out of 100 photos, whereas the second had 12 out of 101 photos. In total, the first algorithm had a 8% error while the second had ~12% error, so the first algorithm made the fewest mistakes.\n",
    "\n",
    "b) In this specific situation, because we don't really care for false bird identification, we will focus on false person identification. For NN, 5 out of 50 bird identifications failed, resulting in 10% error. For NA, 11 out of 58 bird identifications failed, resulting ~19% error. Hence, the NA algorithm is better for the zoo.\n",
    "\n",
    "c) Now that only 1% of pictures are people, I will assume that the total number of photos stay the same (100 for NN and 101 for NA).\n",
    "\n",
    "|           | True Bird | True Person |\n",
    "|-----------|-----------|-------------|\n",
    "| NN Bird | 92.813    | 0.096       |\n",
    "| NN Person | 6.187     | 0.904       |\n",
    "| NA Bird | 97.917    | 0.208       |\n",
    "| NA Person | 2.083     | 0.792       |"
   ]
  },
  {
   "cell_type": "markdown",
   "metadata": {},
   "source": [
    "## Problem 2\n",
    "\n",
    "a) For the sum of two identical exponential distributions $X_1$ and $X_2$ with identical $λ$ parameter, then the PDF of $Z = X_1 + X_2$ is $f_Z (z) = λ^2 ze^{-λz}$, which is an Erlang distribution.\n",
    "\n",
    "b) For the ratio of two zero-mean unity variance normal distributions $X_1/X_2$, then the PDF of $Z = X_1/X_2$ is $p_z (z) = (1/π)/(1+z^2)$, which is a Cauchy distribution with PDF of $f(x, 0, 1)$.\n",
    "\n",
    "c) For the amplitude of a bivariate normal distruibution (2D Gaussian), the PDF of a vector $[XY]$ where $X$ and $Y$ have no correlation $(ρ = 0)$ and are identical $(x = y = z)$ is $f(z) = \\frac{1}{2πσ^2}e^{-(z-z_μ)^2/{σ}}$."
   ]
  }
 ],
 "metadata": {
  "kernelspec": {
   "display_name": "Python 3",
   "language": "python",
   "name": "python3"
  },
  "language_info": {
   "codemirror_mode": {
    "name": "ipython",
    "version": 3
   },
   "file_extension": ".py",
   "mimetype": "text/x-python",
   "name": "python",
   "nbconvert_exporter": "python",
   "pygments_lexer": "ipython3",
   "version": "3.6.4"
  }
 },
 "nbformat": 4,
 "nbformat_minor": 2
}
